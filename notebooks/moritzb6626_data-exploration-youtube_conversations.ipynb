{
 "cells": [
  {
   "cell_type": "code",
   "execution_count": 36,
   "metadata": {},
   "outputs": [],
   "source": [
    "import pandas as pd\n",
    "import re\n",
    "import numpy as np"
   ]
  },
  {
   "cell_type": "code",
   "execution_count": 13,
   "metadata": {},
   "outputs": [],
   "source": [
    "df = pd.read_csv(\"../raw_data/youtube_conversations.csv\")"
   ]
  },
  {
   "cell_type": "code",
   "execution_count": 14,
   "metadata": {},
   "outputs": [],
   "source": [
    "df = df[[\"transcript_id\", \"topic\", \"utterance_id\", \"interlocutor\", \"utterance_text\", \"main_therapist_behaviour\", \"client_talk_type\"]]"
   ]
  },
  {
   "cell_type": "code",
   "execution_count": 63,
   "metadata": {},
   "outputs": [],
   "source": [
    "def create_input_output_df(df: pd.DataFrame) -> pd.DataFrame:\n",
    "    preprocessed_df = pd.DataFrame(index=np.arange(df[df.interlocutor == \"therapist\"].shape[0]))\n",
    "    preprocessed_df[\"transcript_id\"] = -1\n",
    "    preprocessed_df[\"input\"] = \"\"\n",
    "    preprocessed_df[\"output\"] = \"\"\n",
    "    \n",
    "    row_cursor = 0\n",
    "    i = 0\n",
    "    for transcript_id in df.transcript_id.unique():\n",
    "        \n",
    "        sub_df = df[df.transcript_id==transcript_id]\n",
    "        # print(transcript_id, sub_df.shape)\n",
    "        i_prior = i\n",
    "        while i < sub_df.shape[0] + i_prior:\n",
    "            client_text = \"\"\n",
    "            while i < sub_df.shape[0] + i_prior and sub_df.interlocutor[i] == \"client\":\n",
    "                client_text += (\"; \" if client_text else \"\") + sub_df.utterance_text[i]\n",
    "                i += 1\n",
    "            \n",
    "            therapist_text = \"\"\n",
    "            while i < sub_df.shape[0] + i_prior and sub_df.interlocutor[i] == \"therapist\":\n",
    "                therapist_text += (\"; \" if therapist_text else \"\") + sub_df.utterance_text[i]\n",
    "                i += 1\n",
    "            if i >= sub_df.shape[0] + i_prior:\n",
    "                break\n",
    "            preprocessed_df[\"input\"][row_cursor] = client_text\n",
    "            preprocessed_df[\"output\"][row_cursor] = therapist_text\n",
    "            preprocessed_df[\"transcript_id\"][row_cursor] = transcript_id\n",
    "            row_cursor += 1\n",
    "    return preprocessed_df[preprocessed_df.transcript_id != -1]\n",
    "    "
   ]
  },
  {
   "cell_type": "code",
   "execution_count": 65,
   "metadata": {},
   "outputs": [
    {
     "name": "stderr",
     "output_type": "stream",
     "text": [
      "/tmp/ipykernel_15443/644873416.py:26: SettingWithCopyWarning: \n",
      "A value is trying to be set on a copy of a slice from a DataFrame\n",
      "\n",
      "See the caveats in the documentation: https://pandas.pydata.org/pandas-docs/stable/user_guide/indexing.html#returning-a-view-versus-a-copy\n",
      "  preprocessed_df[\"input\"][row_cursor] = client_text\n",
      "/tmp/ipykernel_15443/644873416.py:27: SettingWithCopyWarning: \n",
      "A value is trying to be set on a copy of a slice from a DataFrame\n",
      "\n",
      "See the caveats in the documentation: https://pandas.pydata.org/pandas-docs/stable/user_guide/indexing.html#returning-a-view-versus-a-copy\n",
      "  preprocessed_df[\"output\"][row_cursor] = therapist_text\n",
      "/tmp/ipykernel_15443/644873416.py:28: SettingWithCopyWarning: \n",
      "A value is trying to be set on a copy of a slice from a DataFrame\n",
      "\n",
      "See the caveats in the documentation: https://pandas.pydata.org/pandas-docs/stable/user_guide/indexing.html#returning-a-view-versus-a-copy\n",
      "  preprocessed_df[\"transcript_id\"][row_cursor] = transcript_id\n"
     ]
    },
    {
     "data": {
      "text/html": [
       "<div>\n",
       "<style scoped>\n",
       "    .dataframe tbody tr th:only-of-type {\n",
       "        vertical-align: middle;\n",
       "    }\n",
       "\n",
       "    .dataframe tbody tr th {\n",
       "        vertical-align: top;\n",
       "    }\n",
       "\n",
       "    .dataframe thead th {\n",
       "        text-align: right;\n",
       "    }\n",
       "</style>\n",
       "<table border=\"1\" class=\"dataframe\">\n",
       "  <thead>\n",
       "    <tr style=\"text-align: right;\">\n",
       "      <th></th>\n",
       "      <th>transcript_id</th>\n",
       "      <th>input</th>\n",
       "      <th>output</th>\n",
       "    </tr>\n",
       "  </thead>\n",
       "  <tbody>\n",
       "    <tr>\n",
       "      <th>0</th>\n",
       "      <td>0</td>\n",
       "      <td></td>\n",
       "      <td>Thanks for filling it out. We give this form t...</td>\n",
       "    </tr>\n",
       "    <tr>\n",
       "      <th>1</th>\n",
       "      <td>0</td>\n",
       "      <td>Sure.</td>\n",
       "      <td>So, let's see. It looks that you put-- You dri...</td>\n",
       "    </tr>\n",
       "    <tr>\n",
       "      <th>2</th>\n",
       "      <td>0</td>\n",
       "      <td>Mm-hmm.</td>\n",
       "      <td>-and you usually have three to four drinks whe...</td>\n",
       "    </tr>\n",
       "    <tr>\n",
       "      <th>3</th>\n",
       "      <td>0</td>\n",
       "      <td>Usually three drinks and glasses of wine.</td>\n",
       "      <td>Okay. That's at least 12 drinks a week.</td>\n",
       "    </tr>\n",
       "    <tr>\n",
       "      <th>4</th>\n",
       "      <td>0</td>\n",
       "      <td>Something like that.</td>\n",
       "      <td>Okay. Just so you know, my role, um, when we t...</td>\n",
       "    </tr>\n",
       "    <tr>\n",
       "      <th>...</th>\n",
       "      <td>...</td>\n",
       "      <td>...</td>\n",
       "      <td>...</td>\n",
       "    </tr>\n",
       "    <tr>\n",
       "      <th>4780</th>\n",
       "      <td>133</td>\n",
       "      <td>Yeah, like, I guess I could be wondering that ...</td>\n",
       "      <td>So you know there's a part of you going, I was...</td>\n",
       "    </tr>\n",
       "    <tr>\n",
       "      <th>4781</th>\n",
       "      <td>133</td>\n",
       "      <td>Hmm.</td>\n",
       "      <td>And this is a pretty lonely road to-to walk by...</td>\n",
       "    </tr>\n",
       "    <tr>\n",
       "      <th>4782</th>\n",
       "      <td>133</td>\n",
       "      <td>There's Fiona.</td>\n",
       "      <td>Yeah.</td>\n",
       "    </tr>\n",
       "    <tr>\n",
       "      <th>4783</th>\n",
       "      <td>133</td>\n",
       "      <td>[unintelligible 00:26:37] getting out so what-...</td>\n",
       "      <td>You know maybe they'll walk that road with you...</td>\n",
       "    </tr>\n",
       "    <tr>\n",
       "      <th>4784</th>\n",
       "      <td>133</td>\n",
       "      <td>Yeah, okay, uh, all right, yeah. All right.</td>\n",
       "      <td>There's a couple of people.</td>\n",
       "    </tr>\n",
       "  </tbody>\n",
       "</table>\n",
       "<p>4785 rows × 3 columns</p>\n",
       "</div>"
      ],
      "text/plain": [
       "      transcript_id                                              input  \\\n",
       "0                 0                                                      \n",
       "1                 0                                              Sure.   \n",
       "2                 0                                            Mm-hmm.   \n",
       "3                 0          Usually three drinks and glasses of wine.   \n",
       "4                 0                               Something like that.   \n",
       "...             ...                                                ...   \n",
       "4780            133  Yeah, like, I guess I could be wondering that ...   \n",
       "4781            133                                               Hmm.   \n",
       "4782            133                                     There's Fiona.   \n",
       "4783            133  [unintelligible 00:26:37] getting out so what-...   \n",
       "4784            133        Yeah, okay, uh, all right, yeah. All right.   \n",
       "\n",
       "                                                 output  \n",
       "0     Thanks for filling it out. We give this form t...  \n",
       "1     So, let's see. It looks that you put-- You dri...  \n",
       "2     -and you usually have three to four drinks whe...  \n",
       "3               Okay. That's at least 12 drinks a week.  \n",
       "4     Okay. Just so you know, my role, um, when we t...  \n",
       "...                                                 ...  \n",
       "4780  So you know there's a part of you going, I was...  \n",
       "4781  And this is a pretty lonely road to-to walk by...  \n",
       "4782                                              Yeah.  \n",
       "4783  You know maybe they'll walk that road with you...  \n",
       "4784                        There's a couple of people.  \n",
       "\n",
       "[4785 rows x 3 columns]"
      ]
     },
     "execution_count": 65,
     "metadata": {},
     "output_type": "execute_result"
    }
   ],
   "source": [
    "create_input_output_df(df)"
   ]
  },
  {
   "cell_type": "code",
   "execution_count": 67,
   "metadata": {},
   "outputs": [
    {
     "name": "stderr",
     "output_type": "stream",
     "text": [
      "/tmp/ipykernel_15443/644873416.py:26: SettingWithCopyWarning: \n",
      "A value is trying to be set on a copy of a slice from a DataFrame\n",
      "\n",
      "See the caveats in the documentation: https://pandas.pydata.org/pandas-docs/stable/user_guide/indexing.html#returning-a-view-versus-a-copy\n",
      "  preprocessed_df[\"input\"][row_cursor] = client_text\n",
      "/tmp/ipykernel_15443/644873416.py:27: SettingWithCopyWarning: \n",
      "A value is trying to be set on a copy of a slice from a DataFrame\n",
      "\n",
      "See the caveats in the documentation: https://pandas.pydata.org/pandas-docs/stable/user_guide/indexing.html#returning-a-view-versus-a-copy\n",
      "  preprocessed_df[\"output\"][row_cursor] = therapist_text\n",
      "/tmp/ipykernel_15443/644873416.py:28: SettingWithCopyWarning: \n",
      "A value is trying to be set on a copy of a slice from a DataFrame\n",
      "\n",
      "See the caveats in the documentation: https://pandas.pydata.org/pandas-docs/stable/user_guide/indexing.html#returning-a-view-versus-a-copy\n",
      "  preprocessed_df[\"transcript_id\"][row_cursor] = transcript_id\n",
      "/tmp/ipykernel_15443/4140601453.py:8: SettingWithCopyWarning: \n",
      "A value is trying to be set on a copy of a slice from a DataFrame\n",
      "\n",
      "See the caveats in the documentation: https://pandas.pydata.org/pandas-docs/stable/user_guide/indexing.html#returning-a-view-versus-a-copy\n",
      "  input_output_df[\"joined_inputs\"][i] = joined_inputs\n"
     ]
    }
   ],
   "source": [
    "input_output_df = create_input_output_df(df)\n",
    "input_output_df[\"joined_inputs\"] = \"\"\n",
    "joined_inputs = \"\"\n",
    "for i in range(len(input_output_df)):\n",
    "    if i > 0 and input_output_df.transcript_id[i] != input_output_df.transcript_id[i-1]:\n",
    "        joined_inputs = \"\"\n",
    "    joined_inputs += (\" EOS \" if joined_inputs else \"\") + input_output_df.input[i]\n",
    "    input_output_df[\"joined_inputs\"][i] = joined_inputs\n",
    "    joined_inputs += (\" EOS \" if joined_inputs else \"\") + input_output_df.output[i]\n",
    "input_output_df =\\\n",
    "    input_output_df.drop(columns=\"transcript_id\")\\\n",
    "        .applymap(lambda exp_string: re.sub(r\"\\[.*\\]\",\"\",exp_string).strip())\n",
    "input_output_df[\"input\"] = input_output_df[\"joined_inputs\"]\n",
    "input_output_df.drop(columns=\"joined_inputs\", inplace=True)"
   ]
  },
  {
   "cell_type": "code",
   "execution_count": 68,
   "metadata": {},
   "outputs": [],
   "source": [
    "input_output_df.to_csv(\"../preprocessed_data_level1/chats/preprocessed_youtube-conversations.csv\")"
   ]
  }
 ],
 "metadata": {
  "kernelspec": {
   "display_name": "WELL-repository-env",
   "language": "python",
   "name": "python3"
  },
  "language_info": {
   "codemirror_mode": {
    "name": "ipython",
    "version": 3
   },
   "file_extension": ".py",
   "mimetype": "text/x-python",
   "name": "python",
   "nbconvert_exporter": "python",
   "pygments_lexer": "ipython3",
   "version": "3.10.6"
  },
  "orig_nbformat": 4,
  "vscode": {
   "interpreter": {
    "hash": "1fb699c960300db1ed6259f99bb711c5e4190ca758e9f893078880b35cd8bc31"
   }
  }
 },
 "nbformat": 4,
 "nbformat_minor": 2
}
