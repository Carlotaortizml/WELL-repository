{
 "cells": [
  {
   "cell_type": "code",
   "execution_count": 2,
   "metadata": {},
   "outputs": [],
   "source": [
    "import pandas as pd"
   ]
  },
  {
   "cell_type": "code",
   "execution_count": 3,
   "metadata": {},
   "outputs": [],
   "source": [
    "df = pd.read_csv(\"../raw_data/youtube_conversations.csv\")"
   ]
  },
  {
   "cell_type": "code",
   "execution_count": 4,
   "metadata": {},
   "outputs": [],
   "source": [
    "df = df[[\"transcript_id\", \"topic\", \"utterance_id\", \"interlocutor\", \"utterance_text\", \"main_therapist_behaviour\", \"client_talk_type\"]]"
   ]
  },
  {
   "cell_type": "code",
   "execution_count": 14,
   "metadata": {},
   "outputs": [],
   "source": [
    "import numpy as np"
   ]
  },
  {
   "cell_type": "code",
   "execution_count": null,
   "metadata": {},
   "outputs": [],
   "source": [
    "def create_input_output_df(df: pd.DataFrame) -> pd.DataFrame:\n",
    "    preprocessed_df = pd.DataFrame(index=np.arange(df[df.interlocutor == \"therapist\"].shape[0]))\n",
    "    preprocessed_df[\"transcript_id\"] = -1\n",
    "    preprocessed_df[\"input\"] = \"\"\n",
    "    preprocessed_df[\"output\"] = \"\"\n",
    "    \n",
    "    row_cursor = 0\n",
    "    i = 0\n",
    "    for transcript_id in df.transcript_id.unique():\n",
    "        \n",
    "        sub_df = df[df.transcript_id==transcript_id]\n",
    "        print(transcript_id, sub_df.shape)\n",
    "        i_prior = i\n",
    "        while i < sub_df.shape[0] + i_prior:\n",
    "            client_text = \"\"\n",
    "            while i < sub_df.shape[0] + i_prior and sub_df.interlocutor[i] == \"client\":\n",
    "                client_text += (\"; \" if client_text else \"\") + sub_df.utterance_text[i]\n",
    "                i += 1\n",
    "            \n",
    "            therapist_text = \"\"\n",
    "            while i < sub_df.shape[0] + i_prior and sub_df.interlocutor[i] == \"therapist\":\n",
    "                therapist_text += (\"; \" if therapist_text else \"\") + sub_df.utterance_text[i]\n",
    "                i += 1\n",
    "            if i >= sub_df.shape[0] + i_prior:\n",
    "                break\n",
    "            preprocessed_df[\"input\"][row_cursor] = client_text\n",
    "            preprocessed_df[\"output\"][row_cursor] = therapist_text\n",
    "            preprocessed_df[\"transcript_id\"][row_cursor] = transcript_id\n",
    "            row_cursor += 1\n",
    "    return preprocessed_df[preprocessed_df.transcript_id != -1]\n",
    "    "
   ]
  },
  {
   "cell_type": "code",
   "execution_count": null,
   "metadata": {},
   "outputs": [
    {
     "name": "stdout",
     "output_type": "stream",
     "text": [
      "0 (54, 7)\n",
      "1 (37, 7)\n",
      "2 (36, 7)\n",
      "3 (16, 7)\n",
      "4 (59, 7)\n"
     ]
    },
    {
     "name": "stderr",
     "output_type": "stream",
     "text": [
      "/tmp/ipykernel_31630/420737939.py:27: SettingWithCopyWarning: \n",
      "A value is trying to be set on a copy of a slice from a DataFrame\n",
      "\n",
      "See the caveats in the documentation: https://pandas.pydata.org/pandas-docs/stable/user_guide/indexing.html#returning-a-view-versus-a-copy\n",
      "  preprocessed_df[\"input\"][row_cursor] = client_text\n",
      "/tmp/ipykernel_31630/420737939.py:28: SettingWithCopyWarning: \n",
      "A value is trying to be set on a copy of a slice from a DataFrame\n",
      "\n",
      "See the caveats in the documentation: https://pandas.pydata.org/pandas-docs/stable/user_guide/indexing.html#returning-a-view-versus-a-copy\n",
      "  preprocessed_df[\"output\"][row_cursor] = therapist_text\n",
      "/tmp/ipykernel_31630/420737939.py:29: SettingWithCopyWarning: \n",
      "A value is trying to be set on a copy of a slice from a DataFrame\n",
      "\n",
      "See the caveats in the documentation: https://pandas.pydata.org/pandas-docs/stable/user_guide/indexing.html#returning-a-view-versus-a-copy\n",
      "  preprocessed_df[\"transcript_id\"][row_cursor] = transcript_id\n"
     ]
    },
    {
     "data": {
      "text/html": [
       "<div>\n",
       "<style scoped>\n",
       "    .dataframe tbody tr th:only-of-type {\n",
       "        vertical-align: middle;\n",
       "    }\n",
       "\n",
       "    .dataframe tbody tr th {\n",
       "        vertical-align: top;\n",
       "    }\n",
       "\n",
       "    .dataframe thead th {\n",
       "        text-align: right;\n",
       "    }\n",
       "</style>\n",
       "<table border=\"1\" class=\"dataframe\">\n",
       "  <thead>\n",
       "    <tr style=\"text-align: right;\">\n",
       "      <th></th>\n",
       "      <th>transcript_id</th>\n",
       "      <th>input</th>\n",
       "      <th>output</th>\n",
       "    </tr>\n",
       "  </thead>\n",
       "  <tbody>\n",
       "    <tr>\n",
       "      <th>0</th>\n",
       "      <td>0</td>\n",
       "      <td></td>\n",
       "      <td>Thanks for filling it out. We give this form t...</td>\n",
       "    </tr>\n",
       "    <tr>\n",
       "      <th>1</th>\n",
       "      <td>0</td>\n",
       "      <td>Sure.</td>\n",
       "      <td>So, let's see. It looks that you put-- You dri...</td>\n",
       "    </tr>\n",
       "    <tr>\n",
       "      <th>2</th>\n",
       "      <td>0</td>\n",
       "      <td>Mm-hmm.</td>\n",
       "      <td>-and you usually have three to four drinks whe...</td>\n",
       "    </tr>\n",
       "    <tr>\n",
       "      <th>3</th>\n",
       "      <td>0</td>\n",
       "      <td>Usually three drinks and glasses of wine.</td>\n",
       "      <td>Okay. That's at least 12 drinks a week.</td>\n",
       "    </tr>\n",
       "    <tr>\n",
       "      <th>4</th>\n",
       "      <td>0</td>\n",
       "      <td>Something like that.</td>\n",
       "      <td>Okay. Just so you know, my role, um, when we t...</td>\n",
       "    </tr>\n",
       "    <tr>\n",
       "      <th>...</th>\n",
       "      <td>...</td>\n",
       "      <td>...</td>\n",
       "      <td>...</td>\n",
       "    </tr>\n",
       "    <tr>\n",
       "      <th>94</th>\n",
       "      <td>4</td>\n",
       "      <td>Yeah.</td>\n",
       "      <td>-the effect? Okay.</td>\n",
       "    </tr>\n",
       "    <tr>\n",
       "      <th>95</th>\n",
       "      <td>4</td>\n",
       "      <td>Yeah. I guess if I really start to see a probl...</td>\n",
       "      <td>Mm-hmm.</td>\n",
       "    </tr>\n",
       "    <tr>\n",
       "      <th>96</th>\n",
       "      <td>4</td>\n",
       "      <td>-will kind of stick [unintelligible 00:02:30]</td>\n",
       "      <td>Emily, you said it so well it-</td>\n",
       "    </tr>\n",
       "    <tr>\n",
       "      <th>97</th>\n",
       "      <td>4</td>\n",
       "      <td>Yeah.</td>\n",
       "      <td>-the-the piercing might not last forever, but ...</td>\n",
       "    </tr>\n",
       "    <tr>\n",
       "      <th>98</th>\n",
       "      <td>4</td>\n",
       "      <td>Yeah.</td>\n",
       "      <td>-hopefully forever. So, okay, well thanks for-...</td>\n",
       "    </tr>\n",
       "  </tbody>\n",
       "</table>\n",
       "<p>99 rows × 3 columns</p>\n",
       "</div>"
      ],
      "text/plain": [
       "    transcript_id                                              input  \\\n",
       "0               0                                                      \n",
       "1               0                                              Sure.   \n",
       "2               0                                            Mm-hmm.   \n",
       "3               0          Usually three drinks and glasses of wine.   \n",
       "4               0                               Something like that.   \n",
       "..            ...                                                ...   \n",
       "94              4                                              Yeah.   \n",
       "95              4  Yeah. I guess if I really start to see a probl...   \n",
       "96              4      -will kind of stick [unintelligible 00:02:30]   \n",
       "97              4                                              Yeah.   \n",
       "98              4                                              Yeah.   \n",
       "\n",
       "                                               output  \n",
       "0   Thanks for filling it out. We give this form t...  \n",
       "1   So, let's see. It looks that you put-- You dri...  \n",
       "2   -and you usually have three to four drinks whe...  \n",
       "3             Okay. That's at least 12 drinks a week.  \n",
       "4   Okay. Just so you know, my role, um, when we t...  \n",
       "..                                                ...  \n",
       "94                                 -the effect? Okay.  \n",
       "95                                            Mm-hmm.  \n",
       "96                     Emily, you said it so well it-  \n",
       "97  -the-the piercing might not last forever, but ...  \n",
       "98  -hopefully forever. So, okay, well thanks for-...  \n",
       "\n",
       "[99 rows x 3 columns]"
      ]
     },
     "execution_count": 314,
     "metadata": {},
     "output_type": "execute_result"
    }
   ],
   "source": [
    "create_input_output_df(df[df.transcript_id<5])"
   ]
  }
 ],
 "metadata": {
  "kernelspec": {
   "display_name": "WELL-repository-env",
   "language": "python",
   "name": "python3"
  },
  "language_info": {
   "codemirror_mode": {
    "name": "ipython",
    "version": 3
   },
   "file_extension": ".py",
   "mimetype": "text/x-python",
   "name": "python",
   "nbconvert_exporter": "python",
   "pygments_lexer": "ipython3",
   "version": "3.10.6"
  },
  "orig_nbformat": 4,
  "vscode": {
   "interpreter": {
    "hash": "1fb699c960300db1ed6259f99bb711c5e4190ca758e9f893078880b35cd8bc31"
   }
  }
 },
 "nbformat": 4,
 "nbformat_minor": 2
}
