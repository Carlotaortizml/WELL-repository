{
 "cells": [
  {
   "cell_type": "code",
   "execution_count": 72,
   "metadata": {},
   "outputs": [],
   "source": [
    "import pandas as pd"
   ]
  },
  {
   "cell_type": "code",
   "execution_count": 73,
   "metadata": {},
   "outputs": [],
   "source": [
    "intents_df = pd.read_csv(\"../preprocessed_data_level1/chats/preprocessed_intends.csv\", index_col=\"Unnamed: 0\")\n",
    "mental_health_faq_df = pd.read_csv(\"../preprocessed_data_level1/chats/preprocessed_mental_health_faq.csv\", index_col=\"Unnamed: 0\")\n",
    "youtube_conversations_df = pd.read_csv(\"../preprocessed_data_level1/chats/preprocessed_youtube-conversations.csv\", index_col=\"Unnamed: 0\")"
   ]
  },
  {
   "cell_type": "code",
   "execution_count": 74,
   "metadata": {},
   "outputs": [],
   "source": [
    "pd.concat([intents_df, mental_health_faq_df, youtube_conversations_df], ignore_index=True)\\\n",
    "    .dropna()\\\n",
    "        .to_csv(\"../preprocessed_data_level1/chats/preprocessed_full.csv\")"
   ]
  },
  {
   "cell_type": "code",
   "execution_count": null,
   "metadata": {},
   "outputs": [],
   "source": []
  }
 ],
 "metadata": {
  "kernelspec": {
   "display_name": "WELL-repository-env",
   "language": "python",
   "name": "python3"
  },
  "language_info": {
   "codemirror_mode": {
    "name": "ipython",
    "version": 3
   },
   "file_extension": ".py",
   "mimetype": "text/x-python",
   "name": "python",
   "nbconvert_exporter": "python",
   "pygments_lexer": "ipython3",
   "version": "3.10.6"
  },
  "orig_nbformat": 4,
  "vscode": {
   "interpreter": {
    "hash": "1fb699c960300db1ed6259f99bb711c5e4190ca758e9f893078880b35cd8bc31"
   }
  }
 },
 "nbformat": 4,
 "nbformat_minor": 2
}
