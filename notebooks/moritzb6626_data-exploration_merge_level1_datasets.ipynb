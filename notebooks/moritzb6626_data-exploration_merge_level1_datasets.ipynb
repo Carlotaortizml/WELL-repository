{
 "cells": [
  {
   "cell_type": "code",
   "execution_count": 3,
   "metadata": {},
   "outputs": [],
   "source": [
    "import pandas as pd"
   ]
  },
  {
   "cell_type": "code",
   "execution_count": 10,
   "metadata": {},
   "outputs": [],
   "source": [
    "intents_df = pd.read_csv(\"../preprocessed_data_level1/chats/preprocessed_intends.csv\").drop(columns=\"Unnamed: 0\")\n",
    "mental_health_faq_df = pd.read_csv(\"../preprocessed_data_level1/chats/preprocessed_mental_health_faq.csv\").drop(columns=\"Unnamed: 0\")\n",
    "youtube_conversations_df = pd.read_csv(\"../preprocessed_data_level1/chats/preprocessed_youtube-conversations.csv\").drop(columns=\"Unnamed: 0\")"
   ]
  },
  {
   "cell_type": "code",
   "execution_count": 11,
   "metadata": {},
   "outputs": [
    {
     "data": {
      "text/html": [
       "<div>\n",
       "<style scoped>\n",
       "    .dataframe tbody tr th:only-of-type {\n",
       "        vertical-align: middle;\n",
       "    }\n",
       "\n",
       "    .dataframe tbody tr th {\n",
       "        vertical-align: top;\n",
       "    }\n",
       "\n",
       "    .dataframe thead th {\n",
       "        text-align: right;\n",
       "    }\n",
       "</style>\n",
       "<table border=\"1\" class=\"dataframe\">\n",
       "  <thead>\n",
       "    <tr style=\"text-align: right;\">\n",
       "      <th></th>\n",
       "      <th>input</th>\n",
       "      <th>output</th>\n",
       "    </tr>\n",
       "  </thead>\n",
       "  <tbody>\n",
       "    <tr>\n",
       "      <th>0</th>\n",
       "      <td>Hi</td>\n",
       "      <td>Hello there. Tell me how are you feeling today?</td>\n",
       "    </tr>\n",
       "    <tr>\n",
       "      <th>1</th>\n",
       "      <td>Hi</td>\n",
       "      <td>Hi there. What brings you here today?</td>\n",
       "    </tr>\n",
       "    <tr>\n",
       "      <th>2</th>\n",
       "      <td>Hi</td>\n",
       "      <td>Hi there. How are you feeling today?</td>\n",
       "    </tr>\n",
       "    <tr>\n",
       "      <th>3</th>\n",
       "      <td>Hi</td>\n",
       "      <td>Great to see you. How do you feel currently?</td>\n",
       "    </tr>\n",
       "    <tr>\n",
       "      <th>4</th>\n",
       "      <td>Hi</td>\n",
       "      <td>Hello there. Glad to see you're back. What's g...</td>\n",
       "    </tr>\n",
       "    <tr>\n",
       "      <th>...</th>\n",
       "      <td>...</td>\n",
       "      <td>...</td>\n",
       "    </tr>\n",
       "    <tr>\n",
       "      <th>656</th>\n",
       "      <td>How do I know if I'm unwell?</td>\n",
       "      <td>If your beliefs , thoughts , feelings or behav...</td>\n",
       "    </tr>\n",
       "    <tr>\n",
       "      <th>657</th>\n",
       "      <td>How can I maintain social connections? What if...</td>\n",
       "      <td>A lot of people are alone right now, but we do...</td>\n",
       "    </tr>\n",
       "    <tr>\n",
       "      <th>658</th>\n",
       "      <td>What's the difference between anxiety and stress?</td>\n",
       "      <td>Stress and anxiety are often used interchangea...</td>\n",
       "    </tr>\n",
       "    <tr>\n",
       "      <th>659</th>\n",
       "      <td>What's the difference between sadness and depr...</td>\n",
       "      <td>Sadness is a normal reaction to a loss, disapp...</td>\n",
       "    </tr>\n",
       "    <tr>\n",
       "      <th>660</th>\n",
       "      <td>difference between sadness and depression</td>\n",
       "      <td>Sadness is a normal reaction to a loss, disapp...</td>\n",
       "    </tr>\n",
       "  </tbody>\n",
       "</table>\n",
       "<p>661 rows × 2 columns</p>\n",
       "</div>"
      ],
      "text/plain": [
       "                                                 input  \\\n",
       "0                                                   Hi   \n",
       "1                                                   Hi   \n",
       "2                                                   Hi   \n",
       "3                                                   Hi   \n",
       "4                                                   Hi   \n",
       "..                                                 ...   \n",
       "656                       How do I know if I'm unwell?   \n",
       "657  How can I maintain social connections? What if...   \n",
       "658  What's the difference between anxiety and stress?   \n",
       "659  What's the difference between sadness and depr...   \n",
       "660          difference between sadness and depression   \n",
       "\n",
       "                                                output  \n",
       "0      Hello there. Tell me how are you feeling today?  \n",
       "1                Hi there. What brings you here today?  \n",
       "2                 Hi there. How are you feeling today?  \n",
       "3         Great to see you. How do you feel currently?  \n",
       "4    Hello there. Glad to see you're back. What's g...  \n",
       "..                                                 ...  \n",
       "656  If your beliefs , thoughts , feelings or behav...  \n",
       "657  A lot of people are alone right now, but we do...  \n",
       "658  Stress and anxiety are often used interchangea...  \n",
       "659  Sadness is a normal reaction to a loss, disapp...  \n",
       "660  Sadness is a normal reaction to a loss, disapp...  \n",
       "\n",
       "[661 rows x 2 columns]"
      ]
     },
     "execution_count": 11,
     "metadata": {},
     "output_type": "execute_result"
    }
   ],
   "source": [
    "intents_df"
   ]
  },
  {
   "cell_type": "code",
   "execution_count": null,
   "metadata": {},
   "outputs": [],
   "source": [
    "pd.concat([intents_df, mental_health_faq_df, youtube_conversations_df], ignore_index=True)\\\n",
    "    .dropna()\\\n",
    "        .to_csv(\"../preprocessed_data_level1/chats/preprocessed_full.csv\")"
   ]
  },
  {
   "cell_type": "code",
   "execution_count": 14,
   "metadata": {},
   "outputs": [],
   "source": [
    "pd.concat([intents_df, mental_health_faq_df]).dropna().to_csv(path_or_buf=\"../preprocessed_data_level1/chats/preprocessed_qa_dataset.csv\")"
   ]
  }
 ],
 "metadata": {
  "kernelspec": {
   "display_name": "WELL-repository-env",
   "language": "python",
   "name": "python3"
  },
  "language_info": {
   "codemirror_mode": {
    "name": "ipython",
    "version": 3
   },
   "file_extension": ".py",
   "mimetype": "text/x-python",
   "name": "python",
   "nbconvert_exporter": "python",
   "pygments_lexer": "ipython3",
   "version": "3.10.6"
  },
  "orig_nbformat": 4,
  "vscode": {
   "interpreter": {
    "hash": "1fb699c960300db1ed6259f99bb711c5e4190ca758e9f893078880b35cd8bc31"
   }
  }
 },
 "nbformat": 4,
 "nbformat_minor": 2
}
